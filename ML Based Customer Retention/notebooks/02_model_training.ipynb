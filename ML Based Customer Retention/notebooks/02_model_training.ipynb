{
  "nbformat": 4,
  "nbformat_minor": 0,
  "metadata": {
    "colab": {
      "provenance": []
    },
    "kernelspec": {
      "name": "python3",
      "display_name": "Python 3"
    },
    "language_info": {
      "name": "python"
    }
  },
  "cells": [
    {
      "cell_type": "code",
      "execution_count": 3,
      "metadata": {
        "colab": {
          "base_uri": "https://localhost:8080/"
        },
        "id": "MXwtf67PofKe",
        "outputId": "8a6e03dc-5ccf-46f6-dd86-321bf71db7f1"
      },
      "outputs": [
        {
          "output_type": "stream",
          "name": "stdout",
          "text": [
            "Model saved as decision_tree_model.pkl\n"
          ]
        }
      ],
      "source": [
        "import joblib\n",
        "from sklearn.tree import DecisionTreeClassifier\n",
        "\n",
        "# Load preprocessed data\n",
        "X_train_scaled, X_test_scaled, y_train, y_test = joblib.load('preprocessed_data.pkl')\n",
        "\n",
        "# Initialize and train the model\n",
        "d_tree = DecisionTreeClassifier()\n",
        "d_tree.fit(X_train_scaled, y_train)\n",
        "\n",
        "# Save the trained model\n",
        "joblib.dump(d_tree, 'decision_tree_model.pkl')\n",
        "print(\"Model saved as decision_tree_model.pkl\")"
      ]
    },
    {
      "cell_type": "code",
      "source": [
        "import joblib\n",
        "from sklearn.ensemble import RandomForestClassifier\n",
        "\n",
        "# Load preprocessed data\n",
        "X_train_scaled, X_test_scaled, y_train, y_test = joblib.load('preprocessed_data.pkl')\n",
        "\n",
        "# Initialize and train the model\n",
        "rf = RandomForestClassifier()\n",
        "rf.fit(X_train_scaled, y_train)\n",
        "\n",
        "# Save the trained model\n",
        "joblib.dump(rf, 'random_forest_model.pkl')\n",
        "print(\"Model saved as random_forest_model.pkl\")"
      ],
      "metadata": {
        "colab": {
          "base_uri": "https://localhost:8080/"
        },
        "id": "K43kEHX6uB_H",
        "outputId": "39906877-6288-4361-fbc5-c1d28a64c39c"
      },
      "execution_count": 4,
      "outputs": [
        {
          "output_type": "stream",
          "name": "stdout",
          "text": [
            "Model saved as random_forest_model.pkl\n"
          ]
        }
      ]
    },
    {
      "cell_type": "code",
      "source": [
        "import joblib\n",
        "from sklearn.svm import SVC\n",
        "\n",
        "# Load preprocessed data\n",
        "X_train_scaled, X_test_scaled, y_train, y_test = joblib.load('preprocessed_data.pkl')\n",
        "\n",
        "# Initialize and train the SVM model\n",
        "svm = SVC(probability=True)\n",
        "svm.fit(X_train_scaled, y_train)\n",
        "\n",
        "# Save the trained model\n",
        "joblib.dump(svm, 'svm_model.pkl')\n",
        "print(\"SVM model saved as svm_model.pkl\")"
      ],
      "metadata": {
        "colab": {
          "base_uri": "https://localhost:8080/"
        },
        "id": "uX7U11xNu0NU",
        "outputId": "5b37ce08-c172-446f-cc87-287972795f39"
      },
      "execution_count": 5,
      "outputs": [
        {
          "output_type": "stream",
          "name": "stdout",
          "text": [
            "SVM model saved as svm_model.pkl\n"
          ]
        }
      ]
    },
    {
      "cell_type": "code",
      "source": [
        "import joblib\n",
        "from sklearn.naive_bayes import GaussianNB\n",
        "\n",
        "# Load preprocessed data\n",
        "X_train_scaled, X_test_scaled, y_train, y_test = joblib.load('preprocessed_data.pkl')\n",
        "\n",
        "# Initialize and train the Naïve Bayes model\n",
        "nb = GaussianNB()\n",
        "nb.fit(X_train_scaled, y_train)\n",
        "\n",
        "# Save the trained model\n",
        "joblib.dump(nb, 'naive_bayes_model.pkl')\n",
        "print(\"Naïve Bayes model saved as naive_bayes_model.pkl\")"
      ],
      "metadata": {
        "colab": {
          "base_uri": "https://localhost:8080/"
        },
        "id": "BI7cfoVnvdoi",
        "outputId": "fa65b884-831e-4bd5-8c5b-df01d739046a"
      },
      "execution_count": 6,
      "outputs": [
        {
          "output_type": "stream",
          "name": "stdout",
          "text": [
            "Naïve Bayes model saved as naive_bayes_model.pkl\n"
          ]
        }
      ]
    },
    {
      "cell_type": "code",
      "source": [
        "import joblib\n",
        "import xgboost as xgb\n",
        "\n",
        "# Load preprocessed data\n",
        "X_train_scaled, X_test_scaled, y_train, y_test = joblib.load('preprocessed_data.pkl')\n",
        "\n",
        "# Initialize and train the XGBoost model\n",
        "xgb_model = xgb.XGBClassifier(objective='binary:logistic',\n",
        "                              random_state=33,\n",
        "                              n_estimators=100,\n",
        "                              learning_rate=0.1)\n",
        "xgb_model.fit(X_train_scaled, y_train)\n",
        "\n",
        "# Save the trained model\n",
        "joblib.dump(xgb_model, 'xgboost_model.pkl')\n",
        "print(\"XGBoost model saved as xgboost_model.pkl\")\n"
      ],
      "metadata": {
        "colab": {
          "base_uri": "https://localhost:8080/"
        },
        "id": "qVDTl8E4vwwB",
        "outputId": "8855b64a-3438-4d17-b7ce-d39bcb8ec6fd"
      },
      "execution_count": 7,
      "outputs": [
        {
          "output_type": "stream",
          "name": "stdout",
          "text": [
            "XGBoost model saved as xgboost_model.pkl\n"
          ]
        }
      ]
    },
    {
      "cell_type": "code",
      "source": [
        "import joblib\n",
        "from sklearn.linear_model import LogisticRegression\n",
        "\n",
        "# Load preprocessed data\n",
        "X_train_scaled, X_test_scaled, y_train, y_test = joblib.load('preprocessed_data.pkl')\n",
        "\n",
        "# Initialize and train the Logistic Regression model\n",
        "log_reg = LogisticRegression(random_state=33, max_iter=1000)\n",
        "log_reg.fit(X_train_scaled, y_train)\n",
        "\n",
        "# Save the trained model\n",
        "joblib.dump(log_reg, 'logistic_regression_model.pkl')\n",
        "print(\"Logistic Regression model saved as logistic_regression_model.pkl\")"
      ],
      "metadata": {
        "colab": {
          "base_uri": "https://localhost:8080/"
        },
        "id": "tjh1mSllwBvN",
        "outputId": "91799174-8011-40bb-8984-6238c13860a5"
      },
      "execution_count": 8,
      "outputs": [
        {
          "output_type": "stream",
          "name": "stdout",
          "text": [
            "Logistic Regression model saved as logistic_regression_model.pkl\n"
          ]
        }
      ]
    }
  ]
}